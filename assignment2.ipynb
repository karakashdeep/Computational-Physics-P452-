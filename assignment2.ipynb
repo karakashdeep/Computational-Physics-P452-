{
  "cells": [
    {
      "cell_type": "markdown",
      "metadata": {
        "id": "szOWRtRCdn9w"
      },
      "source": [
        "#**Question 1**"
      ]
    },
    {
      "cell_type": "markdown",
      "metadata": {
        "id": "ZhGGgGHqkeCL"
      },
      "source": [
        "Cholesky decomposition"
      ]
    },
    {
      "cell_type": "code",
      "execution_count": 1,
      "metadata": {
        "colab": {
          "base_uri": "https://localhost:8080/"
        },
        "id": "-kjESgXIdh5t",
        "outputId": "e3597c11-5ddd-42f2-fd81-ce7350029199"
      },
      "outputs": [
        {
          "name": "stdout",
          "output_type": "stream",
          "text": [
            "[1. 1. 1. 1. 1. 1.]\n"
          ]
        }
      ],
      "source": [
        "import numpy as np\n",
        "\n",
        "def Cholesky(a):\n",
        "    a = np.array(a, float)\n",
        "    L = np.zeros_like(a)\n",
        "    n = np.shape(a)[0]\n",
        "\n",
        "    for j in range(n):\n",
        "        for i in range(j, n):\n",
        "            if i == j:\n",
        "                sumk = 0.0\n",
        "                for k in range(j):\n",
        "                    sumk = sumk + L[i][k] ** 2\n",
        "                L[i][j] = np.sqrt(a[i][j] - sumk)\n",
        "            else:\n",
        "                sumk = 0.0\n",
        "                for k in range(j):\n",
        "                    sumk = sumk + L[i][k] * L[j][k]\n",
        "                L[i][j] = (a[i][j] - sumk) / L[j][j]\n",
        "\n",
        "    L_t = L.T\n",
        "\n",
        "    def forsub(L, bs):\n",
        "        n = bs.size\n",
        "        xs = np.zeros(n)\n",
        "        for i in range(n):\n",
        "            xs[i] = (bs[i] - L[i, :i] @ xs[:i]) / L[i, i]\n",
        "        return xs\n",
        "\n",
        "    def backsub(U, bs):\n",
        "        n = bs.size\n",
        "        xs = np.zeros(n)\n",
        "        for i in reversed(range(n)):\n",
        "            xs[i] = (bs[i] - U[i, i + 1:] @ xs[i + 1:]) / U[i, i]\n",
        "        return xs\n",
        "    y=forsub(L,b)\n",
        "    z=backsub(L_t,y)\n",
        "    return z\n",
        "\n",
        "A = np.array([[4, -1, 0, -1, 0, 0], [-1, 4, -1, 0, -1, 0], [0, -1, 4, 0, 0, -1],\n",
        "              [-1, 0, 0, 4, -1, 0], [0, -1, 0, -1, 4, -1], [0, 0, -1, 0, -1, 4]])\n",
        "b=np.array([2,1,2,2,1,2])\n",
        "print(Cholesky(A))\n"
      ]
    },
    {
      "cell_type": "code",
      "execution_count": 2,
      "metadata": {
        "colab": {
          "base_uri": "https://localhost:8080/"
        },
        "id": "mZtS5iG2krBr",
        "outputId": "33c905e1-c279-4ce8-8183-27b991767f15"
      },
      "outputs": [
        {
          "name": "stdout",
          "output_type": "stream",
          "text": [
            "[1. 1. 1. 1. 1. 1.]\n"
          ]
        }
      ],
      "source": [
        "def gauss_sidel(A,b,x):\n",
        "    n=0\n",
        "    tol=100\n",
        "    while tol>10**(-15):\n",
        "        x0=x.copy()\n",
        "        for i in range(len(x)):\n",
        "            result=0\n",
        "            for j in range(len(x)):\n",
        "                result+=A[i,j]*x[j]\n",
        "            x[i]=(b[i]-result+A[i,i]*x[i])/(A[i,i])\n",
        "        tol=np.sum((x-x0)**2)\n",
        "        n+=1\n",
        "    return(x)\n",
        "x=np.zeros(6)\n",
        "print(gauss_sidel(A,b,x))"
      ]
    },
    {
      "cell_type": "code",
      "execution_count": 3,
      "metadata": {
        "colab": {
          "base_uri": "https://localhost:8080/"
        },
        "id": "BFsdxfEifyQH",
        "outputId": "485f394a-8cc3-42cc-acca-63c2841f74a7"
      },
      "outputs": [
        {
          "name": "stdout",
          "output_type": "stream",
          "text": [
            "[1. 1. 1. 1. 1. 1.]\n"
          ]
        }
      ],
      "source": [
        "solution = np.linalg.solve(A, b)\n",
        "print(solution)"
      ]
    },
    {
      "cell_type": "markdown",
      "metadata": {
        "id": "-BX0bGs6mnTZ"
      },
      "source": [
        "#**Question 2**"
      ]
    },
    {
      "cell_type": "markdown",
      "metadata": {
        "id": "dFEs6Bw0o1oA"
      },
      "source": []
    },
    {
      "cell_type": "code",
      "execution_count": 4,
      "metadata": {
        "colab": {
          "base_uri": "https://localhost:8080/"
        },
        "id": "2OqAAldpms7M",
        "outputId": "8f4f401a-32f5-4111-a4e6-1ee9d07bd8f5"
      },
      "outputs": [
        {
          "name": "stdout",
          "output_type": "stream",
          "text": [
            "[-1.83590378 28.50565971 -6.02062257  5.64074991 -9.9813937 ]\n"
          ]
        }
      ],
      "source": [
        "import numpy as np\n",
        "\n",
        "A=np.array([[2,5,1,3,13],[4,0,4,10,1],[0.0,4.0,2.0,0,1],[11,3,0,1,2],[3,2,7,1,0]],dtype=float)\n",
        "b=np.array([20,15,92,51,15],dtype=float)\n",
        "\n",
        "def ludec(A):\n",
        "    n = A.shape[0]\n",
        "    U = np.copy(A)\n",
        "    L = np.identity(n)\n",
        "    for j in range(n-1):\n",
        "        for i in range(j+1,n):\n",
        "            coeff = U[i,j]/U[j,j]\n",
        "            U[i,j:] -= coeff*U[j,j:]\n",
        "            L[i,j] = coeff\n",
        "    return L, U\n",
        "def forsub(L,bs):\n",
        "    n = bs.size\n",
        "    xs = np.zeros(n)\n",
        "    for i in range(n):\n",
        "        xs[i] = (bs[i] - L[i,:i]@xs[:i])/(L[i,i])\n",
        "    return xs\n",
        "def backsub(U,bs):\n",
        "    n = bs.size\n",
        "    xs = np.zeros(n)\n",
        "    for i in reversed(range(n)):\n",
        "        xs[i] = (bs[i] - U[i,i+1:]@xs[i+1:])/(U[i,i])\n",
        "    return xs\n",
        "def lusolve(A,bs):\n",
        "    L, U = ludec(A)\n",
        "    ys = forsub(L,bs)\n",
        "    xs = backsub(U,ys)\n",
        "    return xs\n",
        "\n",
        "print(lusolve(A,b))"
      ]
    },
    {
      "cell_type": "code",
      "execution_count": 5,
      "metadata": {
        "colab": {
          "base_uri": "https://localhost:8080/"
        },
        "id": "7m6aB2y3tlO4",
        "outputId": "84f97630-7f7e-42ec-c5b4-b75ffd79bc16"
      },
      "outputs": [
        {
          "name": "stdout",
          "output_type": "stream",
          "text": [
            "[-1.83590378 28.50565971 -6.02062257  5.64074991 -9.9813937 ]\n"
          ]
        }
      ],
      "source": [
        "import numpy as np\n",
        "def gaussjordan(a,b):\n",
        "    a=np.array(a,float)\n",
        "    b=np.array(b,float)\n",
        "    n=len(b)\n",
        "    for k in range(n):\n",
        "        if abs(a[k,k])<1.0e-12:\n",
        "            for i in range(k+1,n):#row\n",
        "                if abs(a[i,k])>abs(a[k,k]):\n",
        "                    for j in range(k,n):#colummn\n",
        "                        a[k,j],a[i,j]=a[i,j],a[k,j]\n",
        "                    b[k],b[i]=b[i],b[k]\n",
        "                    break\n",
        "        pivot=a[k,k]\n",
        "        for j in range(k,n):\n",
        "            a[k,j]=a[k,j]/pivot\n",
        "        b[k]=b[k]/pivot\n",
        "        for i in range(n):\n",
        "            if i==k or a[i,k]==0:continue\n",
        "            factor=a[i,k]\n",
        "            for j in range(k,n):\n",
        "                a[i,j]=a[i,j]-factor*a[k,j]\n",
        "            b[i]=b[i]-factor*b[k]\n",
        "    return b\n",
        "x=gaussjordan(A,b)\n",
        "print(x)"
      ]
    },
    {
      "cell_type": "code",
      "execution_count": null,
      "metadata": {
        "id": "_2AVRgG7tm-l"
      },
      "outputs": [],
      "source": []
    },
    {
      "cell_type": "code",
      "execution_count": 6,
      "metadata": {
        "colab": {
          "base_uri": "https://localhost:8080/"
        },
        "id": "IoJDAeLgr7QR",
        "outputId": "505a3370-9806-4cd4-cfd2-d03654ffa129"
      },
      "outputs": [
        {
          "name": "stdout",
          "output_type": "stream",
          "text": [
            "[-1.83590378 28.50565971 -6.02062257  5.64074991 -9.9813937 ]\n"
          ]
        }
      ],
      "source": [
        "solution = np.linalg.solve(A, b)\n",
        "print(solution)"
      ]
    },
    {
      "cell_type": "markdown",
      "metadata": {
        "id": "vVVsfJTTZkx2"
      },
      "source": [
        "#**Question 3**"
      ]
    },
    {
      "cell_type": "code",
      "execution_count": 7,
      "metadata": {
        "id": "LybUEZ-iZoKg"
      },
      "outputs": [],
      "source": [
        "import numpy as np\n",
        "def conjugate_gradient(A,b,x,tol=0.000001,itermax=54):\n",
        "  r=b-A@x\n",
        "  d=r\n",
        "  i=0\n",
        "  residue=np.sqrt(r@r)\n",
        "  while i<=itermax and residue >= tol:\n",
        "    alpha=(r@r)/(d@(A@d))\n",
        "    x=x+alpha*d\n",
        "    r1=r-alpha*(A@d)\n",
        "    beta=(r1@r1)/(r@r)\n",
        "    d=r1+beta*d\n",
        "    r=r1\n",
        "    residue=np.sqrt(r@r)\n",
        "    i+=1\n",
        "  return x\n",
        "def conjugate_gradient_inverse(A):\n",
        "  l=[]\n",
        "  I=np.identity(A.shape[1])\n",
        "  x0=0.5*np.ones(A.shape[1])\n",
        "  for j in range(A.shape[1]):\n",
        "    x=conjugate_gradient(A,I[:,j],x0)\n",
        "    l.append(x)\n",
        "  result=np.vstack(l)\n",
        "  return result.T\n",
        "def conjgrad(A, b, x):\n",
        "    r = b - np.dot(A, x)\n",
        "    p = r\n",
        "    rsold = np.dot(np.transpose(r), r)\n",
        "\n",
        "    for i in range(len(b)):\n",
        "        Ap = np.dot(A, p)\n",
        "        alpha = rsold / np.dot(np.transpose(p), Ap)\n",
        "        x = x + np.dot(alpha, p)\n",
        "        r = r - np.dot(alpha, Ap)\n",
        "        rsnew = np.dot(np.transpose(r), r)\n",
        "        if np.sqrt(rsnew) < 1e-9:\n",
        "            break\n",
        "        p = r + (rsnew/rsold)*p\n",
        "        rsold = rsnew\n",
        "    return x\n",
        "import numpy as np\n",
        "M=np.array([[2,-3,0,0,0,0],[-1,4,-1,0,-1,0],[0,-1,4,0,0,-1],[0,0,0,2,-3,0],[0,-1,0,-1,4,-1],[0,0,-1,0,-1,4]])\n",
        "b=np.array([-(5/3),(2/3),3,(-4/3),(-1/3),(5/3)])\n",
        "x0=np.ones(6)\n",
        "\n",
        "\n",
        "\n",
        "\n"
      ]
    },
    {
      "cell_type": "code",
      "execution_count": 8,
      "metadata": {
        "colab": {
          "base_uri": "https://localhost:8080/"
        },
        "id": "UOdgEYUdfh8d",
        "outputId": "61c4a558-d445-4724-b0cb-0b5828ce171e"
      },
      "outputs": [
        {
          "data": {
            "text/plain": [
              "array([-0.5597598 ,  0.15584588,  0.76952535, -1.28134912, -0.16611059,\n",
              "        0.58875806])"
            ]
          },
          "execution_count": 8,
          "metadata": {},
          "output_type": "execute_result"
        }
      ],
      "source": [
        "conjgrad(M,b,x0)"
      ]
    },
    {
      "cell_type": "code",
      "execution_count": 9,
      "metadata": {
        "colab": {
          "base_uri": "https://localhost:8080/"
        },
        "id": "xFLcnyHvbWsT",
        "outputId": "1d773deb-6428-418e-aec0-72bee80263e6"
      },
      "outputs": [
        {
          "name": "stdout",
          "output_type": "stream",
          "text": [
            "[-0.3447479   0.32688228  0.99761917 -0.68164938 -0.00712292  0.66452815]\n"
          ]
        }
      ],
      "source": [
        "print(conjugate_gradient(M,b,x0))"
      ]
    },
    {
      "cell_type": "code",
      "execution_count": 10,
      "metadata": {
        "colab": {
          "base_uri": "https://localhost:8080/"
        },
        "id": "qqiZg6WPchsZ",
        "outputId": "dcb2a771-cd76-4ca3-dd9c-4f6db7759405"
      },
      "outputs": [
        {
          "name": "stdout",
          "output_type": "stream",
          "text": [
            "[-3.33333333e-01  3.33333333e-01  1.00000000e+00 -6.66666667e-01\n",
            "  1.60032148e-17  6.66666667e-01]\n"
          ]
        }
      ],
      "source": [
        "solution = np.linalg.solve(M, b)\n",
        "print(solution)"
      ]
    },
    {
      "cell_type": "code",
      "execution_count": 11,
      "metadata": {
        "colab": {
          "base_uri": "https://localhost:8080/"
        },
        "id": "itSFwWG5h0vo",
        "outputId": "cdeebc59-df12-4293-cceb-67b286ab8603"
      },
      "outputs": [
        {
          "name": "stdout",
          "output_type": "stream",
          "text": [
            "[[0.91297646 0.93578768 0.25615252 0.21230963 0.50834423 0.16956203]\n",
            " [0.28746764 0.59692854 0.17256342 0.13813613 0.3030059  0.11216624]\n",
            " [0.08350403 0.15499575 0.31979197 0.04920808 0.10121089 0.10776105]\n",
            " [0.21230963 0.50834423 0.16956203 0.91297646 0.93578768 0.25615252]\n",
            " [0.13813613 0.3030059  0.11216624 0.28746764 0.59692854 0.17256342]\n",
            " [0.04920808 0.10121089 0.10776105 0.08350403 0.15499575 0.31979197]]\n"
          ]
        }
      ],
      "source": [
        "Q=conjugate_gradient_inverse(M)\n",
        "print(Q)\n"
      ]
    },
    {
      "cell_type": "code",
      "execution_count": 12,
      "metadata": {
        "colab": {
          "base_uri": "https://localhost:8080/"
        },
        "id": "PS8nacKgiG92",
        "outputId": "ed9b3cb7-d44a-463b-8023-c16b33072be1"
      },
      "outputs": [
        {
          "name": "stdout",
          "output_type": "stream",
          "text": [
            "[[0.93506494 0.87012987 0.25974026 0.20779221 0.41558442 0.16883117]\n",
            " [0.29004329 0.58008658 0.17316017 0.13852814 0.27705628 0.11255411]\n",
            " [0.08658009 0.17316017 0.32034632 0.05627706 0.11255411 0.10822511]\n",
            " [0.20779221 0.41558442 0.16883117 0.93506494 0.87012987 0.25974026]\n",
            " [0.13852814 0.27705628 0.11255411 0.29004329 0.58008658 0.17316017]\n",
            " [0.05627706 0.11255411 0.10822511 0.08658009 0.17316017 0.32034632]]\n"
          ]
        }
      ],
      "source": [
        "S=np.linalg.inv(M)\n",
        "print(S)"
      ]
    },
    {
      "cell_type": "markdown",
      "metadata": {
        "id": "eVj1XO0Be6BD"
      },
      "source": [
        "#**Question 4**"
      ]
    },
    {
      "cell_type": "code",
      "execution_count": 13,
      "metadata": {
        "colab": {
          "base_uri": "https://localhost:8080/"
        },
        "id": "yqYf0-7Re94k",
        "outputId": "eeeb0017-773c-4a14-b062-694c10469349"
      },
      "outputs": [
        {
          "name": "stdout",
          "output_type": "stream",
          "text": [
            "(50, 50)\n",
            "[[-0.46  1.    0.5  ...  0.5   0.5   0.5 ]\n",
            " [ 0.   -0.96  0.   ...  0.    0.    0.  ]\n",
            " [ 0.    0.   -0.96 ...  0.    0.    0.  ]\n",
            " ...\n",
            " [ 0.    0.    0.   ... -0.96  0.    0.  ]\n",
            " [ 0.    0.    0.   ...  0.   -0.96  0.  ]\n",
            " [ 0.    0.    0.   ...  0.    0.   -0.96]]\n"
          ]
        }
      ],
      "source": [
        "import numpy as np\n",
        "m=0.2\n",
        "d=m**2-1\n",
        "dia=d*np.eye(50,k=0,dtype=float)\n",
        "A1=np.zeros((51,51),dtype=float)\n",
        "L=0.5*np.ones(50)\n",
        "for i in range(0,50):\n",
        "  for j in range(0,50):\n",
        "    if j==2*i:\n",
        "      A1[i][j]=1.0/2\n",
        "    else:\n",
        "      A1[i][j]=0.0\n",
        "A1= np.delete(A1, 0, axis=0)\n",
        "A1 = np.delete(A1, 0, axis=1)\n",
        "A2=np.zeros((50,50),dtype=float)\n",
        "A2[0,:]=L\n",
        "print(np.shape(A1))\n",
        "A=A1+dia+A2\n",
        "print(A)\n"
      ]
    },
    {
      "cell_type": "code",
      "execution_count": 14,
      "metadata": {
        "colab": {
          "base_uri": "https://localhost:8080/"
        },
        "id": "g6GUxmQ2mV7Q",
        "outputId": "cb4e6ade-ad86-4580-9130-737b629501bb"
      },
      "outputs": [
        {
          "name": "stdout",
          "output_type": "stream",
          "text": [
            "[[ 5.20948813e+08 -2.46095287e+08 -5.11582014e+06 ... -6.18875143e+16\n",
            "  -1.34180393e+02 -1.61650836e+04]\n",
            " [ 3.11911914e+08 -3.27666887e+08 -2.84217450e+06 ... -2.93025556e+16\n",
            "  -9.05966870e+01 -9.01421452e+03]\n",
            " [ 3.11911914e+08 -1.28036785e+08 -7.01891562e+06 ... -2.93025558e+16\n",
            "  -9.05966870e+01 -9.01421452e+03]\n",
            " ...\n",
            " [ 2.33102578e+08 -9.23815189e+07 -2.00483543e+06 ... -6.35603837e+16\n",
            "  -6.47196421e+01 -6.35788901e+03]\n",
            " [ 2.33102578e+08 -9.23815189e+07 -2.00483543e+06 ... -2.06141785e+16\n",
            "  -1.99555633e+02 -6.35788901e+03]\n",
            " [ 2.33102578e+08 -9.23815189e+07 -2.00483543e+06 ... -2.06141785e+16\n",
            "  -6.47196421e+01 -1.96033504e+04]]\n"
          ]
        }
      ],
      "source": [
        "print(conjugate_gradient_inverse(A))"
      ]
    }
  ],
  "metadata": {
    "colab": {
      "provenance": []
    },
    "kernelspec": {
      "display_name": "Python 3",
      "name": "python3"
    },
    "language_info": {
      "codemirror_mode": {
        "name": "ipython",
        "version": 3
      },
      "file_extension": ".py",
      "mimetype": "text/x-python",
      "name": "python",
      "nbconvert_exporter": "python",
      "pygments_lexer": "ipython3",
      "version": "3.10.2"
    }
  },
  "nbformat": 4,
  "nbformat_minor": 0
}
